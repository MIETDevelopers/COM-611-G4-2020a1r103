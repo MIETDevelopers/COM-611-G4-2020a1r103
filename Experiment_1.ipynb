{
 "cells": [
  {
   "cell_type": "markdown",
   "id": "4e674eef",
   "metadata": {
    "id": "D92vUrt-sfBh"
   },
   "source": [
    "## **Basics of Python**"
   ]
  },
  {
   "cell_type": "code",
   "execution_count": 1,
   "id": "752d05f0",
   "metadata": {},
   "outputs": [
    {
     "data": {
      "text/plain": [
       "5"
      ]
     },
     "execution_count": 1,
     "metadata": {},
     "output_type": "execute_result"
    }
   ],
   "source": [
    "2+3"
   ]
  },
  {
   "cell_type": "code",
   "execution_count": 2,
   "id": "2e818be9",
   "metadata": {},
   "outputs": [
    {
     "data": {
      "text/plain": [
       "56"
      ]
     },
     "execution_count": 2,
     "metadata": {},
     "output_type": "execute_result"
    }
   ],
   "source": [
    "7 * 8"
   ]
  },
  {
   "cell_type": "code",
   "execution_count": 3,
   "id": "19979e71",
   "metadata": {},
   "outputs": [
    {
     "data": {
      "text/plain": [
       "'Hello World'"
      ]
     },
     "execution_count": 3,
     "metadata": {},
     "output_type": "execute_result"
    }
   ],
   "source": [
    "\"Hello World\""
   ]
  },
  {
   "cell_type": "code",
   "execution_count": 5,
   "id": "e97b4b57",
   "metadata": {},
   "outputs": [
    {
     "name": "stdout",
     "output_type": "stream",
     "text": [
      "Hello World\n"
     ]
    }
   ],
   "source": [
    "print(\"Hello World\")"
   ]
  },
  {
   "cell_type": "code",
   "execution_count": 6,
   "id": "a6079a4e",
   "metadata": {},
   "outputs": [
    {
     "name": "stdout",
     "output_type": "stream",
     "text": [
      "0\n",
      "1\n",
      "2\n",
      "3\n",
      "4\n",
      "5\n",
      "6\n",
      "7\n",
      "8\n",
      "9\n",
      "10\n",
      "11\n"
     ]
    }
   ],
   "source": [
    "for i in range(12):\n",
    "    print(i)"
   ]
  },
  {
   "cell_type": "code",
   "execution_count": 7,
   "id": "a3fceddf",
   "metadata": {},
   "outputs": [],
   "source": [
    "#commments"
   ]
  },
  {
   "cell_type": "code",
   "execution_count": 8,
   "id": "11b859d2",
   "metadata": {},
   "outputs": [
    {
     "name": "stdout",
     "output_type": "stream",
     "text": [
      "Hello World\n"
     ]
    }
   ],
   "source": [
    "print(\"Hello World\")#"
   ]
  },
  {
   "cell_type": "code",
   "execution_count": 9,
   "id": "a99b46f5",
   "metadata": {},
   "outputs": [],
   "source": [
    "#print(\"Hello World\")#"
   ]
  },
  {
   "cell_type": "code",
   "execution_count": 10,
   "id": "b18e40be",
   "metadata": {},
   "outputs": [
    {
     "name": "stdout",
     "output_type": "stream",
     "text": [
      "Hello\n"
     ]
    }
   ],
   "source": [
    "\"\"\"\n",
    "this is a \n",
    "Multi-line comment\n",
    "\"\"\"\n",
    "print(\"Hello\")"
   ]
  },
  {
   "cell_type": "markdown",
   "id": "d9ad0c50",
   "metadata": {
    "id": "36rnYbv1syg-"
   },
   "source": [
    "# **Data Types**"
   ]
  },
  {
   "cell_type": "code",
   "execution_count": 11,
   "id": "1ddb6cbf",
   "metadata": {},
   "outputs": [
    {
     "data": {
      "text/plain": [
       "int"
      ]
     },
     "execution_count": 11,
     "metadata": {},
     "output_type": "execute_result"
    }
   ],
   "source": [
    "type(-80)"
   ]
  },
  {
   "cell_type": "code",
   "execution_count": 12,
   "id": "1c87a59c",
   "metadata": {},
   "outputs": [
    {
     "data": {
      "text/plain": [
       "float"
      ]
     },
     "execution_count": 12,
     "metadata": {},
     "output_type": "execute_result"
    }
   ],
   "source": [
    "type(10.8)"
   ]
  },
  {
   "cell_type": "code",
   "execution_count": 13,
   "id": "ed7869f7",
   "metadata": {},
   "outputs": [
    {
     "data": {
      "text/plain": [
       "str"
      ]
     },
     "execution_count": 13,
     "metadata": {},
     "output_type": "execute_result"
    }
   ],
   "source": [
    "type(\"Hello\")"
   ]
  },
  {
   "cell_type": "code",
   "execution_count": 14,
   "id": "f1c00fd6",
   "metadata": {},
   "outputs": [
    {
     "data": {
      "text/plain": [
       "bool"
      ]
     },
     "execution_count": 14,
     "metadata": {},
     "output_type": "execute_result"
    }
   ],
   "source": [
    "type(6<3)"
   ]
  },
  {
   "cell_type": "code",
   "execution_count": 15,
   "id": "fbd6f83a",
   "metadata": {},
   "outputs": [
    {
     "data": {
      "text/plain": [
       "2"
      ]
     },
     "execution_count": 15,
     "metadata": {},
     "output_type": "execute_result"
    }
   ],
   "source": [
    "int(2.8)"
   ]
  },
  {
   "cell_type": "code",
   "execution_count": 16,
   "id": "46d8704d",
   "metadata": {},
   "outputs": [
    {
     "data": {
      "text/plain": [
       "3.0"
      ]
     },
     "execution_count": 16,
     "metadata": {},
     "output_type": "execute_result"
    }
   ],
   "source": [
    "float(3)"
   ]
  },
  {
   "cell_type": "code",
   "execution_count": 17,
   "id": "e11aa8c6",
   "metadata": {},
   "outputs": [
    {
     "data": {
      "text/plain": [
       "'3'"
      ]
     },
     "execution_count": 17,
     "metadata": {},
     "output_type": "execute_result"
    }
   ],
   "source": [
    "str(3)"
   ]
  },
  {
   "cell_type": "code",
   "execution_count": 18,
   "id": "df00e502",
   "metadata": {},
   "outputs": [
    {
     "name": "stdout",
     "output_type": "stream",
     "text": [
      "blueline\n"
     ]
    }
   ],
   "source": [
    "name = \"blueline\"\n",
    "print(name)"
   ]
  },
  {
   "cell_type": "code",
   "execution_count": 20,
   "id": "87116ad1",
   "metadata": {},
   "outputs": [
    {
     "name": "stdout",
     "output_type": "stream",
     "text": [
      "Hello World\n"
     ]
    }
   ],
   "source": [
    "greeting = \"Hello World\"\n",
    "print(greeting)"
   ]
  },
  {
   "cell_type": "code",
   "execution_count": 21,
   "id": "95b2d571",
   "metadata": {},
   "outputs": [
    {
     "data": {
      "text/plain": [
       "'Hello World'"
      ]
     },
     "execution_count": 21,
     "metadata": {},
     "output_type": "execute_result"
    }
   ],
   "source": [
    "greeting"
   ]
  },
  {
   "cell_type": "code",
   "execution_count": 22,
   "id": "a4f485e1",
   "metadata": {},
   "outputs": [
    {
     "name": "stdout",
     "output_type": "stream",
     "text": [
      "12\n"
     ]
    }
   ],
   "source": [
    "a = 10\n",
    "b = 2\n",
    "c = a+b\n",
    "print(c)"
   ]
  },
  {
   "cell_type": "markdown",
   "id": "8f9f8a8a",
   "metadata": {
    "id": "sj8O3eRaWUok"
   },
   "source": [
    "# **List**"
   ]
  },
  {
   "cell_type": "code",
   "execution_count": 23,
   "id": "65773f7a",
   "metadata": {},
   "outputs": [],
   "source": [
    "animals = [\"dog\", \"cat\", \"sheep\", \"goat\", \"tiger\",\"lion\"]"
   ]
  },
  {
   "cell_type": "code",
   "execution_count": 25,
   "id": "6500332c",
   "metadata": {},
   "outputs": [
    {
     "name": "stdout",
     "output_type": "stream",
     "text": [
      "sheep\n"
     ]
    }
   ],
   "source": [
    "print(animals[2])"
   ]
  },
  {
   "cell_type": "code",
   "execution_count": 26,
   "id": "da7478bf",
   "metadata": {},
   "outputs": [
    {
     "name": "stdout",
     "output_type": "stream",
     "text": [
      "goat\n"
     ]
    }
   ],
   "source": [
    "print(animals[-3])"
   ]
  },
  {
   "cell_type": "code",
   "execution_count": 30,
   "id": "b5861c3e",
   "metadata": {},
   "outputs": [
    {
     "name": "stdout",
     "output_type": "stream",
     "text": [
      "('sheep', 'goat', 'tiger')\n"
     ]
    }
   ],
   "source": [
    "print(animals[2:5])"
   ]
  },
  {
   "cell_type": "code",
   "execution_count": 31,
   "id": "55c3c706",
   "metadata": {},
   "outputs": [
    {
     "data": {
      "text/plain": [
       "'orange'"
      ]
     },
     "execution_count": 31,
     "metadata": {},
     "output_type": "execute_result"
    }
   ],
   "source": [
    "fruits = (\"apple\", \"banana\", \"peach\", \"orange\")\n",
    "fruits[3]"
   ]
  },
  {
   "cell_type": "code",
   "execution_count": 32,
   "id": "e50d42d6",
   "metadata": {},
   "outputs": [],
   "source": [
    "fruits = [\"apple\", \"banana\", \"peach\", \"orange\"]"
   ]
  },
  {
   "cell_type": "code",
   "execution_count": 33,
   "id": "8757202b",
   "metadata": {},
   "outputs": [
    {
     "data": {
      "text/plain": [
       "'peach'"
      ]
     },
     "execution_count": 33,
     "metadata": {},
     "output_type": "execute_result"
    }
   ],
   "source": [
    "fruits[2]"
   ]
  },
  {
   "cell_type": "code",
   "execution_count": 34,
   "id": "9560b0cf",
   "metadata": {},
   "outputs": [],
   "source": [
    "fruits.append('cherry')"
   ]
  },
  {
   "cell_type": "code",
   "execution_count": 36,
   "id": "3804c4b5",
   "metadata": {},
   "outputs": [
    {
     "data": {
      "text/plain": [
       "['watermelon', 'banana', 'peach', 'orange', 'cherry']"
      ]
     },
     "execution_count": 36,
     "metadata": {},
     "output_type": "execute_result"
    }
   ],
   "source": [
    "fruits"
   ]
  },
  {
   "cell_type": "code",
   "execution_count": 37,
   "id": "c1358de7",
   "metadata": {},
   "outputs": [],
   "source": [
    "fruits[0] = 'watermelon'"
   ]
  },
  {
   "cell_type": "code",
   "execution_count": 38,
   "id": "6043ddf8",
   "metadata": {},
   "outputs": [
    {
     "name": "stdout",
     "output_type": "stream",
     "text": [
      "['watermelon', 'banana', 'peach', 'orange', 'cherry']\n"
     ]
    }
   ],
   "source": [
    "print(fruits)"
   ]
  },
  {
   "cell_type": "code",
   "execution_count": 39,
   "id": "702162d6",
   "metadata": {},
   "outputs": [],
   "source": [
    "mixed = [\"mango\", \"true\", 11, 5.3]"
   ]
  },
  {
   "cell_type": "code",
   "execution_count": 40,
   "id": "25622bf3",
   "metadata": {},
   "outputs": [
    {
     "data": {
      "text/plain": [
       "5.3"
      ]
     },
     "execution_count": 40,
     "metadata": {},
     "output_type": "execute_result"
    }
   ],
   "source": [
    "mixed[3]"
   ]
  },
  {
   "cell_type": "code",
   "execution_count": 41,
   "id": "bc3f67f2",
   "metadata": {},
   "outputs": [],
   "source": [
    "mixed.remove(11)"
   ]
  },
  {
   "cell_type": "code",
   "execution_count": 42,
   "id": "85e33fd6",
   "metadata": {},
   "outputs": [
    {
     "data": {
      "text/plain": [
       "['mango', 'true', 5.3]"
      ]
     },
     "execution_count": 42,
     "metadata": {},
     "output_type": "execute_result"
    }
   ],
   "source": [
    "mixed"
   ]
  },
  {
   "cell_type": "code",
   "execution_count": 43,
   "id": "5ee46b48",
   "metadata": {},
   "outputs": [
    {
     "name": "stdout",
     "output_type": "stream",
     "text": [
      "dog\n",
      "cat\n",
      "sheep\n",
      "goat\n",
      "tiger\n",
      "lion\n"
     ]
    }
   ],
   "source": [
    "for a in animals:\n",
    "  print(a)\n"
   ]
  },
  {
   "cell_type": "code",
   "execution_count": 44,
   "id": "17630bdc",
   "metadata": {},
   "outputs": [
    {
     "name": "stdout",
     "output_type": "stream",
     "text": [
      "6\n"
     ]
    }
   ],
   "source": [
    "print(len(animals))"
   ]
  },
  {
   "cell_type": "code",
   "execution_count": 45,
   "id": "7ca69956",
   "metadata": {},
   "outputs": [
    {
     "name": "stdout",
     "output_type": "stream",
     "text": [
      "['banana', 'peach']\n"
     ]
    }
   ],
   "source": [
    "print(fruits[1:3])"
   ]
  },
  {
   "cell_type": "code",
   "execution_count": 46,
   "id": "64884fd7",
   "metadata": {},
   "outputs": [],
   "source": [
    "fruits.clear()"
   ]
  },
  {
   "cell_type": "code",
   "execution_count": 47,
   "id": "2beb4cc8",
   "metadata": {},
   "outputs": [
    {
     "data": {
      "text/plain": [
       "[]"
      ]
     },
     "execution_count": 47,
     "metadata": {},
     "output_type": "execute_result"
    }
   ],
   "source": [
    "fruits"
   ]
  },
  {
   "cell_type": "markdown",
   "id": "47c13ade",
   "metadata": {
    "id": "M4ugjSN2XLau"
   },
   "source": [
    "# **Tuple**"
   ]
  },
  {
   "cell_type": "code",
   "execution_count": 48,
   "id": "355aaa7d",
   "metadata": {},
   "outputs": [],
   "source": [
    "animal = (\"bear\", \"dog\", \"cat\", \"rat\", \"goat\")"
   ]
  },
  {
   "cell_type": "code",
   "execution_count": 49,
   "id": "030f4909",
   "metadata": {},
   "outputs": [
    {
     "data": {
      "text/plain": [
       "'rat'"
      ]
     },
     "execution_count": 49,
     "metadata": {},
     "output_type": "execute_result"
    }
   ],
   "source": [
    "animal [-2]"
   ]
  },
  {
   "cell_type": "code",
   "execution_count": 50,
   "id": "bf72cb22",
   "metadata": {},
   "outputs": [
    {
     "name": "stdout",
     "output_type": "stream",
     "text": [
      "bear\n",
      "dog\n",
      "cat\n",
      "rat\n",
      "goat\n"
     ]
    }
   ],
   "source": [
    "for i in animal:\n",
    "  print(i)"
   ]
  },
  {
   "cell_type": "code",
   "execution_count": 51,
   "id": "06501130",
   "metadata": {},
   "outputs": [
    {
     "name": "stdout",
     "output_type": "stream",
     "text": [
      "5\n"
     ]
    }
   ],
   "source": [
    "print(len(animal))"
   ]
  },
  {
   "cell_type": "code",
   "execution_count": 52,
   "id": "455d1fb8",
   "metadata": {},
   "outputs": [],
   "source": [
    "letters = ('a', 'b','c')\n",
    "numbers = (1, 2, 3)\n",
    "letter_numbers = letters + numbers"
   ]
  },
  {
   "cell_type": "code",
   "execution_count": 53,
   "id": "59d793b0",
   "metadata": {},
   "outputs": [
    {
     "name": "stdout",
     "output_type": "stream",
     "text": [
      "('a', 'b', 'c', 1, 2, 3)\n"
     ]
    }
   ],
   "source": [
    "print(letter_numbers)"
   ]
  },
  {
   "cell_type": "markdown",
   "id": "2399b4da",
   "metadata": {
    "id": "V1A4TPwDXUo9"
   },
   "source": [
    "# **Dictionary**"
   ]
  },
  {
   "cell_type": "code",
   "execution_count": 54,
   "id": "818f2218",
   "metadata": {},
   "outputs": [],
   "source": [
    "country_city = {\n",
    "    \"uk\"    : \"london\",\n",
    "    \"usa\"   : \"washington\",\n",
    "    \"italy\" : \"rome\",\n",
    "    \"egypt\" : \"cairo\"\n",
    "}"
   ]
  },
  {
   "cell_type": "code",
   "execution_count": 55,
   "id": "45c0ec04",
   "metadata": {},
   "outputs": [
    {
     "data": {
      "text/plain": [
       "'rome'"
      ]
     },
     "execution_count": 55,
     "metadata": {},
     "output_type": "execute_result"
    }
   ],
   "source": [
    "country_city[\"italy\"]"
   ]
  },
  {
   "cell_type": "code",
   "execution_count": 56,
   "id": "8460c2fa",
   "metadata": {},
   "outputs": [
    {
     "data": {
      "text/plain": [
       "'cairo'"
      ]
     },
     "execution_count": 56,
     "metadata": {},
     "output_type": "execute_result"
    }
   ],
   "source": [
    "country_city.get(\"egypt\")"
   ]
  },
  {
   "cell_type": "code",
   "execution_count": 57,
   "id": "beee0460",
   "metadata": {},
   "outputs": [
    {
     "data": {
      "text/plain": [
       "'atlanta'"
      ]
     },
     "execution_count": 57,
     "metadata": {},
     "output_type": "execute_result"
    }
   ],
   "source": [
    "country_city[\"usa\"] = \"atlanta\"\n",
    "country_city[\"usa\"]"
   ]
  },
  {
   "cell_type": "code",
   "execution_count": 58,
   "id": "39a8e457",
   "metadata": {},
   "outputs": [
    {
     "name": "stdout",
     "output_type": "stream",
     "text": [
      "{'uk': 'london', 'usa': 'atlanta', 'italy': 'rome', 'egypt': 'cairo', 'japan': 'tokyo'}\n"
     ]
    }
   ],
   "source": [
    "country_city[\"japan\"] = \"tokyo\"\n",
    "print(country_city)"
   ]
  },
  {
   "cell_type": "code",
   "execution_count": 59,
   "id": "9cc2fb5a",
   "metadata": {},
   "outputs": [
    {
     "name": "stdout",
     "output_type": "stream",
     "text": [
      "{'uk': 'london', 'usa': 'atlanta', 'italy': 'rome', 'egypt': 'cairo'}\n"
     ]
    }
   ],
   "source": [
    "country_city.pop(\"japan\")\n",
    "print(country_city)"
   ]
  },
  {
   "cell_type": "code",
   "execution_count": 60,
   "id": "519b6b0c",
   "metadata": {},
   "outputs": [
    {
     "name": "stdout",
     "output_type": "stream",
     "text": [
      "uk\n",
      "usa\n",
      "italy\n",
      "egypt\n"
     ]
    }
   ],
   "source": [
    "for i in country_city:\n",
    "  print(i)"
   ]
  },
  {
   "cell_type": "code",
   "execution_count": 61,
   "id": "8756e977",
   "metadata": {},
   "outputs": [
    {
     "name": "stdout",
     "output_type": "stream",
     "text": [
      "london\n",
      "atlanta\n",
      "rome\n",
      "cairo\n"
     ]
    }
   ],
   "source": [
    "for i in country_city.values():\n",
    "  print(i)"
   ]
  },
  {
   "cell_type": "code",
   "execution_count": 62,
   "id": "c0a74c69",
   "metadata": {},
   "outputs": [
    {
     "name": "stdout",
     "output_type": "stream",
     "text": [
      "uk london\n",
      "usa atlanta\n",
      "italy rome\n",
      "egypt cairo\n"
     ]
    }
   ],
   "source": [
    "for x,y in country_city.items():\n",
    "  print(x,y)"
   ]
  },
  {
   "cell_type": "code",
   "execution_count": 63,
   "id": "16133d1a",
   "metadata": {},
   "outputs": [
    {
     "name": "stdout",
     "output_type": "stream",
     "text": [
      "4\n"
     ]
    }
   ],
   "source": [
    "print(len(country_city))"
   ]
  },
  {
   "cell_type": "markdown",
   "id": "b3e9b3fd",
   "metadata": {
    "id": "lIBCqJEeXlHk"
   },
   "source": [
    "# **Operators**"
   ]
  },
  {
   "cell_type": "code",
   "execution_count": 64,
   "id": "6b670a8b",
   "metadata": {},
   "outputs": [
    {
     "name": "stdout",
     "output_type": "stream",
     "text": [
      "11\n"
     ]
    }
   ],
   "source": [
    "x = 4\n",
    "y = 7\n",
    "print(x+y)"
   ]
  },
  {
   "cell_type": "code",
   "execution_count": 65,
   "id": "0a835a99",
   "metadata": {},
   "outputs": [
    {
     "name": "stdout",
     "output_type": "stream",
     "text": [
      "28\n"
     ]
    }
   ],
   "source": [
    "print(x*y)"
   ]
  },
  {
   "cell_type": "code",
   "execution_count": 66,
   "id": "b2879ff7",
   "metadata": {},
   "outputs": [
    {
     "name": "stdout",
     "output_type": "stream",
     "text": [
      "6\n"
     ]
    }
   ],
   "source": [
    "x = 3\n",
    "x +=3\n",
    "print(x)"
   ]
  },
  {
   "cell_type": "code",
   "execution_count": 67,
   "id": "615566de",
   "metadata": {},
   "outputs": [
    {
     "name": "stdout",
     "output_type": "stream",
     "text": [
      "14\n"
     ]
    }
   ],
   "source": [
    "x = 7\n",
    "x *= 2\n",
    "print(x)"
   ]
  },
  {
   "cell_type": "code",
   "execution_count": 68,
   "id": "6f96147f",
   "metadata": {},
   "outputs": [
    {
     "name": "stdout",
     "output_type": "stream",
     "text": [
      "False\n"
     ]
    }
   ],
   "source": [
    "x = 7\n",
    "y = 4\n",
    "print(x==y)"
   ]
  },
  {
   "cell_type": "code",
   "execution_count": 69,
   "id": "746ca6d0",
   "metadata": {},
   "outputs": [
    {
     "name": "stdout",
     "output_type": "stream",
     "text": [
      "True\n"
     ]
    }
   ],
   "source": [
    "x = 7\n",
    "y = 9\n",
    "print(x<y)"
   ]
  },
  {
   "cell_type": "markdown",
   "id": "e694d397",
   "metadata": {
    "id": "ys6IpQ-XX0gg"
   },
   "source": [
    "# **Statements**"
   ]
  },
  {
   "cell_type": "code",
   "execution_count": 70,
   "id": "899acca0",
   "metadata": {},
   "outputs": [
    {
     "name": "stdout",
     "output_type": "stream",
     "text": [
      "a is smaller than b\n"
     ]
    }
   ],
   "source": [
    "# If Statement\n",
    "a = 2\n",
    "b = 3\n",
    "if a<b:\n",
    "  print(\"a is smaller than b\")"
   ]
  },
  {
   "cell_type": "code",
   "execution_count": 71,
   "id": "cec9d329",
   "metadata": {},
   "outputs": [
    {
     "name": "stdout",
     "output_type": "stream",
     "text": [
      "a is less than b\n"
     ]
    }
   ],
   "source": [
    "a = 10\n",
    "b = 20\n",
    "if a == b:\n",
    "  print(\"both a and b are equal\")\n",
    "elif a < b:\n",
    "    print(\"a is less than b\")"
   ]
  },
  {
   "cell_type": "code",
   "execution_count": 72,
   "id": "17b640ed",
   "metadata": {},
   "outputs": [
    {
     "name": "stdout",
     "output_type": "stream",
     "text": [
      " b is greater than c\n"
     ]
    }
   ],
   "source": [
    "a = 10\n",
    "b = 20\n",
    "if a == b:\n",
    "  print(\"a and b are equal\")\n",
    "elif a > b:\n",
    "  print(\"a is greater than b\")\n",
    "else:\n",
    "  print(\" b is greater than c\")"
   ]
  },
  {
   "cell_type": "code",
   "execution_count": 73,
   "id": "ea120774",
   "metadata": {
    "slideshow": {
     "slide_type": "-"
    }
   },
   "outputs": [
    {
     "name": "stdout",
     "output_type": "stream",
     "text": [
      "enter the number5\n",
      "enter the number6\n",
      "11\n"
     ]
    }
   ],
   "source": [
    "first = int(input(\"enter the number\"))\n",
    "second = int(input(\"enter the number\"))\n",
    "sum = first + second\n",
    "print(sum)"
   ]
  },
  {
   "cell_type": "markdown",
   "id": "29062e28",
   "metadata": {
    "id": "KVrctQVGYRDJ"
   },
   "source": [
    "# **Looping**"
   ]
  },
  {
   "cell_type": "code",
   "execution_count": 74,
   "id": "3fe96501",
   "metadata": {},
   "outputs": [
    {
     "name": "stdout",
     "output_type": "stream",
     "text": [
      "1\n",
      "2\n",
      "3\n",
      "4\n",
      "5\n",
      "6\n"
     ]
    }
   ],
   "source": [
    "i = 1\n",
    "while i<7:\n",
    "  print(i)\n",
    "  i += 1"
   ]
  },
  {
   "cell_type": "code",
   "execution_count": 75,
   "id": "2d646b97",
   "metadata": {},
   "outputs": [
    {
     "name": "stdout",
     "output_type": "stream",
     "text": [
      "1\n",
      "2\n",
      "3\n",
      "4\n"
     ]
    }
   ],
   "source": [
    "i = 1\n",
    "while i<7:\n",
    "  print(i)\n",
    "  if (i == 4):\n",
    "    break\n",
    "  i += 1"
   ]
  },
  {
   "cell_type": "code",
   "execution_count": 76,
   "id": "5fe8d7c0",
   "metadata": {},
   "outputs": [
    {
     "name": "stdout",
     "output_type": "stream",
     "text": [
      "joy\n",
      "jack\n",
      "jill\n"
     ]
    }
   ],
   "source": [
    "name = [\"joy\", \"jack\", \"jill\"]\n",
    "for x in name:\n",
    "  print(x)"
   ]
  },
  {
   "cell_type": "code",
   "execution_count": 77,
   "id": "51148b0f",
   "metadata": {},
   "outputs": [
    {
     "name": "stdout",
     "output_type": "stream",
     "text": [
      "i\n",
      "n\n",
      "d\n",
      "i\n",
      "a\n"
     ]
    }
   ],
   "source": [
    "for x in \"india\":\n",
    "  print(x)"
   ]
  },
  {
   "cell_type": "code",
   "execution_count": 78,
   "id": "108384a6",
   "metadata": {},
   "outputs": [
    {
     "name": "stdout",
     "output_type": "stream",
     "text": [
      "red cherry\n",
      "red orange\n",
      "red grapes\n",
      "orange cherry\n",
      "orange orange\n",
      "orange grapes\n",
      "green cherry\n",
      "green orange\n",
      "green grapes\n"
     ]
    }
   ],
   "source": [
    "colour = [\"red\", \"orange\", \"green\"]\n",
    "fruit =  [\"cherry\", \"orange\", \"grapes\"]\n",
    "for x in colour:\n",
    "  for y in fruit:\n",
    "    print (x,y)"
   ]
  },
  {
   "cell_type": "markdown",
   "id": "be1e6ead",
   "metadata": {
    "id": "EwQdjciJYZJy"
   },
   "source": [
    "# **Functions**"
   ]
  },
  {
   "cell_type": "code",
   "execution_count": 79,
   "id": "9f163531",
   "metadata": {},
   "outputs": [
    {
     "name": "stdout",
     "output_type": "stream",
     "text": [
      "5\n"
     ]
    }
   ],
   "source": [
    "def sum(x,y):\n",
    "  print(x + y)\n",
    "\n",
    "sum(2,3)"
   ]
  },
  {
   "cell_type": "code",
   "execution_count": 80,
   "id": "93e33cf5",
   "metadata": {},
   "outputs": [],
   "source": [
    "def sum(x,y):\n",
    "  print(x + y)"
   ]
  },
  {
   "cell_type": "code",
   "execution_count": 81,
   "id": "25d38d3c",
   "metadata": {},
   "outputs": [
    {
     "name": "stdout",
     "output_type": "stream",
     "text": [
      "9\n"
     ]
    }
   ],
   "source": [
    "sum(2, 7)"
   ]
  },
  {
   "cell_type": "code",
   "execution_count": 82,
   "id": "0c456d02",
   "metadata": {},
   "outputs": [],
   "source": [
    "def student(name = \"blueline\"):\n",
    "  print(\"hello \" + name)"
   ]
  },
  {
   "cell_type": "code",
   "execution_count": 83,
   "id": "d9716a9c",
   "metadata": {},
   "outputs": [
    {
     "name": "stdout",
     "output_type": "stream",
     "text": [
      "hello blueline\n"
     ]
    }
   ],
   "source": [
    "# calling function without argument\n",
    "student()"
   ]
  },
  {
   "cell_type": "code",
   "execution_count": 84,
   "id": "81ce26dd",
   "metadata": {},
   "outputs": [
    {
     "name": "stdout",
     "output_type": "stream",
     "text": [
      "hello john\n"
     ]
    }
   ],
   "source": [
    "student(\"john\")"
   ]
  },
  {
   "cell_type": "code",
   "execution_count": 85,
   "id": "28733aab",
   "metadata": {},
   "outputs": [
    {
     "name": "stdout",
     "output_type": "stream",
     "text": [
      "hello james\n"
     ]
    }
   ],
   "source": [
    "student(\"james\")"
   ]
  },
  {
   "cell_type": "code",
   "execution_count": 86,
   "id": "d9974a55",
   "metadata": {},
   "outputs": [],
   "source": [
    "def calculator(operand1, operand2, operator):\n",
    "  if operator == '+':\n",
    "    return operand1 + operand2\n",
    "  elif operator == '*':\n",
    "    return operand1 * operand2\n",
    "  elif operator == '/':\n",
    "    if operand2 != 0:\n",
    "      return operand1 / operand2\n",
    "    else:\n",
    "      return none\n",
    "  else:\n",
    "    return \"invalid inputs\""
   ]
  },
  {
   "cell_type": "code",
   "execution_count": 87,
   "id": "02f51bbc",
   "metadata": {},
   "outputs": [
    {
     "name": "stdout",
     "output_type": "stream",
     "text": [
      "30\n"
     ]
    }
   ],
   "source": [
    "output = calculator(10, 20, '+')\n",
    "print(output)"
   ]
  },
  {
   "cell_type": "markdown",
   "id": "6c302c91",
   "metadata": {
    "id": "sIrOZxjwtBqW"
   },
   "source": [
    "# **Exercise**"
   ]
  },
  {
   "cell_type": "code",
   "execution_count": 2,
   "id": "cbab5a8f",
   "metadata": {},
   "outputs": [
    {
     "name": "stdout",
     "output_type": "stream",
     "text": [
      "Enter first side: 5\n",
      "Enter second side: 6\n",
      "Enter third side: 7\n",
      "The area of the triangle is 14.70 unit²\n"
     ]
    }
   ],
   "source": [
    "# Python Program to find the area of triangle\n",
    "a = float(input('Enter first side: '))\n",
    "b = float(input('Enter second side: '))\n",
    "c = float(input('Enter third side: '))\n",
    "\n",
    "s = (a + b + c) / 2\n",
    "area = (s*(s-a)*(s-b)*(s-c)) ** 0.5\n",
    "print('The area of the triangle is %0.2f' %area, \"unit²\")"
   ]
  }
 ],
 "metadata": {
  "kernelspec": {
   "display_name": "Python 3 (ipykernel)",
   "language": "python",
   "name": "python3"
  },
  "language_info": {
   "codemirror_mode": {
    "name": "ipython",
    "version": 3
   },
   "file_extension": ".py",
   "mimetype": "text/x-python",
   "name": "python",
   "nbconvert_exporter": "python",
   "pygments_lexer": "ipython3",
   "version": "3.9.12"
  }
 },
 "nbformat": 4,
 "nbformat_minor": 5
}
